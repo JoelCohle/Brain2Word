{
 "cells": [
  {
   "cell_type": "code",
   "execution_count": 28,
   "metadata": {},
   "outputs": [],
   "source": [
    "import numpy as np\n",
    "import scipy.io\n",
    "import numpy as np\n",
    "from scipy.io import savemat, loadmat\n",
    "\n",
    "from transformers import AutoTokenizer, AutoModel \n",
    "import torch "
   ]
  },
  {
   "cell_type": "code",
   "execution_count": 29,
   "metadata": {},
   "outputs": [],
   "source": [
    "#read strings from txt file while removing \\n\n",
    "with open('./stimuli/stimuli_180concepts.txt', 'r') as f:\n",
    "    concepts180 = f.readlines()\n",
    "    concepts180 = [line.strip() for line in concepts180]\n",
    "\n",
    "with open('./stimuli/stimuli_243sentences_dereferencedpronouns.txt', 'r') as f:\n",
    "    concepts243 = f.readlines()\n",
    "    concepts243 = [line.strip() for line in concepts243]\n",
    "\n",
    "with open('./stimuli/stimuli_384sentences_dereferencedpronouns.txt', 'r') as f:\n",
    "    concepts384 = f.readlines()\n",
    "    concepts384 = [line.strip() for line in concepts384]"
   ]
  },
  {
   "cell_type": "code",
   "execution_count": 30,
   "metadata": {},
   "outputs": [
    {
     "name": "stdout",
     "output_type": "stream",
     "text": [
      "dict_keys(['__header__', '__version__', '__globals__', 'data'])\n",
      "dict_keys(['__header__', '__version__', '__globals__', 'data'])\n",
      "dict_keys(['__header__', '__version__', '__globals__', 'data'])\n",
      "(180,)\n"
     ]
    }
   ],
   "source": [
    "\n",
    "# Load the MATLAB file\n",
    "main180 = scipy.io.loadmat('./glove_data/180_concepts.mat')\n",
    "real180 = scipy.io.loadmat('./glove_data/180_concepts_real.mat')\n",
    "real243 = scipy.io.loadmat('./glove_data/243_sentences_real.mat')\n",
    "real384 = scipy.io.loadmat('./glove_data/384_sentences_real.mat')\n",
    "\n",
    "print(real180.keys())\n",
    "print(real243.keys())\n",
    "print(real384.keys())\n",
    "print(np.array(concepts180).shape)"
   ]
  },
  {
   "cell_type": "code",
   "execution_count": 32,
   "metadata": {},
   "outputs": [
    {
     "name": "stderr",
     "output_type": "stream",
     "text": [
      "Some weights of the model checkpoint at bert-base-uncased were not used when initializing BertModel: ['cls.predictions.bias', 'cls.predictions.transform.dense.bias', 'cls.seq_relationship.bias', 'cls.predictions.transform.dense.weight', 'cls.predictions.transform.LayerNorm.weight', 'cls.seq_relationship.weight', 'cls.predictions.decoder.weight', 'cls.predictions.transform.LayerNorm.bias']\n",
      "- This IS expected if you are initializing BertModel from the checkpoint of a model trained on another task or with another architecture (e.g. initializing a BertForSequenceClassification model from a BertForPreTraining model).\n",
      "- This IS NOT expected if you are initializing BertModel from the checkpoint of a model that you expect to be exactly identical (initializing a BertForSequenceClassification model from a BertForSequenceClassification model).\n"
     ]
    }
   ],
   "source": [
    "tokeniser = AutoTokenizer.from_pretrained(\"bert-base-uncased\")\n",
    "model = AutoModel.from_pretrained(\"bert-base-uncased\")\n",
    "\n",
    "def generate_BERT_pooled(stimuli):\n",
    "    # Tokenise the sentences\n",
    "    BERT_pooled = []\n",
    "    for s in stimuli:\n",
    "        tokenised_sentence = tokeniser.encode(s, add_special_tokens=True)\n",
    "        input_ids = torch.tensor(tokenised_sentence).unsqueeze(0)  # Batch size 1\n",
    "        with torch.no_grad():\n",
    "            outputs = model(input_ids)\n",
    "            pooled_embedding = torch.mean(outputs.last_hidden_state,dim=1)\n",
    "            BERT_pooled.append(pooled_embedding)\n",
    "\n",
    "    return np.concatenate(BERT_pooled, axis=0)\n",
    "\n",
    "BERT180 = generate_BERT_pooled(concepts180)\n",
    "BERT243 = generate_BERT_pooled(concepts243)\n",
    "BERT384 = generate_BERT_pooled(concepts384)\n"
   ]
  },
  {
   "cell_type": "code",
   "execution_count": 36,
   "metadata": {},
   "outputs": [],
   "source": [
    "savemat('./BERT_data/180_concepts.mat', {'words':np.array(concepts180), 'data': BERT180})\n",
    "savemat('./BERT_data/180_concepts_real.mat', {'data': BERT180})\n",
    "savemat('./BERT_data/243_sentences_real.mat', {'data': BERT243})\n",
    "savemat('./BERT_data/384_sentences_real.mat', {'data': BERT384})"
   ]
  },
  {
   "cell_type": "code",
   "execution_count": 40,
   "metadata": {},
   "outputs": [
    {
     "data": {
      "text/plain": [
       "(384, 768)"
      ]
     },
     "execution_count": 40,
     "metadata": {},
     "output_type": "execute_result"
    }
   ],
   "source": [
    "my_loaded_array = loadmat('./BERT_data/384_sentences_real.mat')\n",
    "my_loaded_array['data'].shape"
   ]
  }
 ],
 "metadata": {
  "kernelspec": {
   "display_name": "Python 3",
   "language": "python",
   "name": "python3"
  },
  "language_info": {
   "codemirror_mode": {
    "name": "ipython",
    "version": 3
   },
   "file_extension": ".py",
   "mimetype": "text/x-python",
   "name": "python",
   "nbconvert_exporter": "python",
   "pygments_lexer": "ipython3",
   "version": "3.10.6"
  },
  "orig_nbformat": 4,
  "vscode": {
   "interpreter": {
    "hash": "916dbcbb3f70747c44a77c7bcd40155683ae19c65e1c03b4aa3499c5328201f1"
   }
  }
 },
 "nbformat": 4,
 "nbformat_minor": 2
}
